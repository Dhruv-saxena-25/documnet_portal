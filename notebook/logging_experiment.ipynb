{
 "cells": [
  {
   "cell_type": "code",
   "execution_count": 1,
   "id": "c3cd0925",
   "metadata": {},
   "outputs": [],
   "source": [
    "import logging\n",
    "import os\n",
    "from datetime import datetime"
   ]
  },
  {
   "cell_type": "code",
   "execution_count": 2,
   "id": "ebb09f40",
   "metadata": {},
   "outputs": [],
   "source": [
    "import structlog"
   ]
  },
  {
   "cell_type": "code",
   "execution_count": 3,
   "id": "412aa9e4",
   "metadata": {},
   "outputs": [
    {
     "data": {
      "text/plain": [
       "'d:\\\\LLMOPS\\\\documnet_portal\\\\notebook\\\\logs'"
      ]
     },
     "execution_count": 3,
     "metadata": {},
     "output_type": "execute_result"
    }
   ],
   "source": [
    "logs_dir = os.path.join(os.getcwd(), \"logs\")\n",
    "logs_dir"
   ]
  },
  {
   "cell_type": "code",
   "execution_count": 4,
   "id": "c7bdede5",
   "metadata": {},
   "outputs": [],
   "source": [
    "os.makedirs(logs_dir, exist_ok=True)"
   ]
  },
  {
   "cell_type": "code",
   "execution_count": 5,
   "id": "d2c554fb",
   "metadata": {},
   "outputs": [],
   "source": [
    "LOG_FILE = f\"{datetime.now().strftime('%m_%d_%Y_%H_%M_%S')}.log\""
   ]
  },
  {
   "cell_type": "code",
   "execution_count": 6,
   "id": "f93f296f",
   "metadata": {},
   "outputs": [
    {
     "data": {
      "text/plain": [
       "'07_26_2025_11_58_47.log'"
      ]
     },
     "execution_count": 6,
     "metadata": {},
     "output_type": "execute_result"
    }
   ],
   "source": [
    "LOG_FILE"
   ]
  },
  {
   "cell_type": "code",
   "execution_count": 7,
   "id": "2cd0be35",
   "metadata": {},
   "outputs": [
    {
     "data": {
      "text/plain": [
       "'07_26_2025_11_58_47.log'"
      ]
     },
     "execution_count": 7,
     "metadata": {},
     "output_type": "execute_result"
    }
   ],
   "source": [
    "LOG_FILE"
   ]
  },
  {
   "cell_type": "code",
   "execution_count": 8,
   "id": "1433de49",
   "metadata": {},
   "outputs": [],
   "source": [
    "LOG_FILE_PATH = os.path.join(logs_dir, LOG_FILE)"
   ]
  },
  {
   "cell_type": "code",
   "execution_count": 9,
   "id": "376e42fb",
   "metadata": {},
   "outputs": [
    {
     "data": {
      "text/plain": [
       "'d:\\\\LLMOPS\\\\documnet_portal\\\\notebook\\\\logs\\\\07_26_2025_11_58_47.log'"
      ]
     },
     "execution_count": 9,
     "metadata": {},
     "output_type": "execute_result"
    }
   ],
   "source": [
    "LOG_FILE_PATH"
   ]
  },
  {
   "cell_type": "code",
   "execution_count": 10,
   "id": "b61311dd",
   "metadata": {},
   "outputs": [],
   "source": [
    "logging.basicConfig(\n",
    "    filename=LOG_FILE_PATH,\n",
    "    format=\"[ %(asctime)s ] %(levelname)s %(name)s (line:%(lineno)d) - %(message)s\",\n",
    "    level=logging.INFO,\n",
    ")"
   ]
  },
  {
   "cell_type": "code",
   "execution_count": 11,
   "id": "2e5fcce7",
   "metadata": {},
   "outputs": [],
   "source": [
    "logger=logging.getLogger(\"DocumentPortal\")"
   ]
  },
  {
   "cell_type": "code",
   "execution_count": 12,
   "id": "79ede41d",
   "metadata": {},
   "outputs": [],
   "source": [
    "logger.info(\"This is an info message\")"
   ]
  },
  {
   "cell_type": "code",
   "execution_count": 13,
   "id": "d51d4549",
   "metadata": {},
   "outputs": [],
   "source": [
    "### Struct Log\n",
    "import structlog"
   ]
  },
  {
   "cell_type": "code",
   "execution_count": 14,
   "id": "c42e9f2c",
   "metadata": {},
   "outputs": [],
   "source": [
    "log = structlog.get_logger()"
   ]
  },
  {
   "cell_type": "code",
   "execution_count": 15,
   "id": "b0de408c",
   "metadata": {},
   "outputs": [
    {
     "name": "stdout",
     "output_type": "stream",
     "text": [
      "2025-07-26 11:58:47 [info     ] User uploaded a file           filename=report.pdf user_id=123\n"
     ]
    }
   ],
   "source": [
    "log.info(\"User uploaded a file\", user_id = 123, filename= \"report.pdf\")"
   ]
  },
  {
   "cell_type": "code",
   "execution_count": null,
   "id": "d3ab4eb9",
   "metadata": {},
   "outputs": [],
   "source": []
  }
 ],
 "metadata": {
  "kernelspec": {
   "display_name": "Python 3",
   "language": "python",
   "name": "python3"
  },
  "language_info": {
   "codemirror_mode": {
    "name": "ipython",
    "version": 3
   },
   "file_extension": ".py",
   "mimetype": "text/x-python",
   "name": "python",
   "nbconvert_exporter": "python",
   "pygments_lexer": "ipython3",
   "version": "3.10.18"
  }
 },
 "nbformat": 4,
 "nbformat_minor": 5
}
